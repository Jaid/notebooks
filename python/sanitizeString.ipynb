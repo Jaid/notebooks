{
 "cells": [
  {
   "cell_type": "code",
   "execution_count": 108,
   "metadata": {},
   "outputs": [],
   "source": [
    "import unicodedata\n",
    "import re\n",
    "\n",
    "printableUnicodeCategories = {'Lu', 'Ll'}\n",
    "unicodeNormalizeCategory = 'NFKC'\n",
    "\n",
    "def checkOutput(output):\n",
    "  print('Output: “' + output + \"”\")\n",
    "  print('Length:', len(output))\n",
    "  hexList = [hex(ord(c)) for c in output]\n",
    "  simplifiedHexList = [c[2:] for c in hexList]\n",
    "  print('Hex:', ' '.join(simplifiedHexList))\n",
    "  categoryList = [unicodedata.category(c) for c in output]\n",
    "  print('Categories:', ' '.join(categoryList))"
   ]
  },
  {
   "cell_type": "code",
   "execution_count": 109,
   "metadata": {},
   "outputs": [
    {
     "name": "stdout",
     "output_type": "stream",
     "text": [
      "Output: “  Hello, world!      你好，世界！”\n",
      "Length: 27\n",
      "Hex: 20 20 48 65 6c 6c 6f 2c 20 77 6f 72 6c 64 21 20 20 20 20 20 20 4f60 597d ff0c 4e16 754c ff01\n",
      "Categories: Zs Zs Lu Ll Ll Ll Ll Po Zs Ll Ll Ll Ll Ll Po Zs Zs Zs Zs Zs Zs Lo Lo Po Lo Lo Po\n"
     ]
    }
   ],
   "source": [
    "text = \"  Hello, world!      你好，世界！\"\n",
    "checkOutput(text)"
   ]
  },
  {
   "cell_type": "code",
   "execution_count": 110,
   "metadata": {},
   "outputs": [
    {
     "name": "stdout",
     "output_type": "stream",
     "text": [
      "Output: “Hello, world!      你好，世界！”\n",
      "Length: 25\n",
      "Hex: 48 65 6c 6c 6f 2c 20 77 6f 72 6c 64 21 20 20 20 20 20 20 4f60 597d ff0c 4e16 754c ff01\n",
      "Categories: Lu Ll Ll Ll Ll Po Zs Ll Ll Ll Ll Ll Po Zs Zs Zs Zs Zs Zs Lo Lo Po Lo Lo Po\n"
     ]
    }
   ],
   "source": [
    "text = text.strip()\n",
    "checkOutput(text)"
   ]
  },
  {
   "cell_type": "code",
   "execution_count": 111,
   "metadata": {},
   "outputs": [
    {
     "name": "stdout",
     "output_type": "stream",
     "text": [
      "Output: “Hello, world! 你好，世界！”\n",
      "Length: 20\n",
      "Hex: 48 65 6c 6c 6f 2c 20 77 6f 72 6c 64 21 20 4f60 597d ff0c 4e16 754c ff01\n",
      "Categories: Lu Ll Ll Ll Ll Po Zs Ll Ll Ll Ll Ll Po Zs Lo Lo Po Lo Lo Po\n"
     ]
    }
   ],
   "source": [
    "text = re.sub(r'\\s+', ' ', text)\n",
    "checkOutput(text)"
   ]
  },
  {
   "cell_type": "code",
   "execution_count": 112,
   "metadata": {},
   "outputs": [
    {
     "name": "stdout",
     "output_type": "stream",
     "text": [
      "Output: “Hello, world! 你好,世界!”\n",
      "Length: 20\n",
      "Hex: 48 65 6c 6c 6f 2c 20 77 6f 72 6c 64 21 20 4f60 597d 2c 4e16 754c 21\n",
      "Categories: Lu Ll Ll Ll Ll Po Zs Ll Ll Ll Ll Ll Po Zs Lo Lo Po Lo Lo Po\n"
     ]
    }
   ],
   "source": [
    "text = unicodedata.normalize(unicodeNormalizeCategory, text)\n",
    "checkOutput(text)"
   ]
  },
  {
   "cell_type": "code",
   "execution_count": 113,
   "metadata": {},
   "outputs": [
    {
     "name": "stdout",
     "output_type": "stream",
     "text": [
      "Output: “Hello, world! 你好,世界!”\n",
      "Length: 20\n",
      "Hex: 48 65 6c 6c 6f 2c 20 77 6f 72 6c 64 21 20 4f60 597d 2c 4e16 754c 21\n",
      "Categories: Lu Ll Ll Ll Ll Po Zs Ll Ll Ll Ll Ll Po Zs Lo Lo Po Lo Lo Po\n"
     ]
    }
   ],
   "source": [
    "def isCharacterPrintable(c: str) -> bool:\n",
    "  category = unicodedata.category(c)\n",
    "  if ord(c) == 0x200B: # Zero-width space\n",
    "    return False\n",
    "  if ord(c) == 0x200C: # Zero-width non-joiner\n",
    "    return False\n",
    "  if ord(c) == 0x200D: # Zero-width joiner\n",
    "    return False\n",
    "  if category == 'Cc': # Control characters\n",
    "    return False\n",
    "  return True\n",
    "\n",
    "text = ''.join(filter(isCharacterPrintable, text))\n",
    "checkOutput(text)\n"
   ]
  }
 ],
 "metadata": {
  "kernelspec": {
   "display_name": ".venv",
   "language": "python",
   "name": "python3"
  },
  "language_info": {
   "codemirror_mode": {
    "name": "ipython",
    "version": 3
   },
   "file_extension": ".py",
   "mimetype": "text/x-python",
   "name": "python",
   "nbconvert_exporter": "python",
   "pygments_lexer": "ipython3",
   "version": "3.11.5"
  }
 },
 "nbformat": 4,
 "nbformat_minor": 2
}
