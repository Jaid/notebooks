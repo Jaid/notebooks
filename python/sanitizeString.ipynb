{
 "cells": [
  {
   "cell_type": "code",
   "execution_count": 34,
   "metadata": {},
   "outputs": [],
   "source": [
    "import re\n",
    "import unicodedata\n",
    "\n",
    "def isCharacterPrintable(c: str) -> bool:\n",
    "  if ord(c) == 0x200B: # Zero-width space\n",
    "    return False\n",
    "  if ord(c) == 0x200C: # Zero-width non-joiner\n",
    "    return False\n",
    "  if ord(c) == 0x200D: # Zero-width joiner\n",
    "    return False\n",
    "  if ord(c) == 0x000A: # Line feed\n",
    "    return True\n",
    "  category = unicodedata.category(c)\n",
    "  if category == 'Cc': # Control characters\n",
    "    return False\n",
    "  return True\n",
    "\n",
    "def strip(text: str) -> str:\n",
    "  text = text.strip()\n",
    "  text = re.sub(r'([^\\S\\n]+)$', '', text)\n",
    "  return text\n",
    "\n",
    "def normalizeLineEndings(text: str) -> str:\n",
    "  text = re.sub(r'\\r\\n', '\\n', text)\n",
    "  text = re.sub(r'\\r', '\\n', text)\n",
    "  return text\n",
    "\n",
    "def compressWhitespace(text: str) -> str:\n",
    "  text = re.sub(r'[^\\S\\n]+', ' ', text)\n",
    "  return text\n",
    "\n",
    "def normalizeUnicode(text: str, unicodeNormalizeCategory: str = 'NFKC') -> str:\n",
    "  text = unicodedata.normalize(unicodeNormalizeCategory, text)\n",
    "  return text\n",
    "\n",
    "def clearUnprintable(text: str) -> str:\n",
    "  text = ''.join(filter(isCharacterPrintable, text))\n",
    "  return text\n",
    "\n",
    "def compressCommas(text: str) -> str:\n",
    "  text = re.sub(r\"\\s*,[\\s,]*,\\s*\", \", \", text)\n",
    "  return text\n",
    "\n",
    "def compressLines(text: str, joiner: str = \" \") -> str:\n",
    "  text = re.sub(\"\\n+\", joiner, text)\n",
    "  return text\n",
    "\n",
    "def checkOutput(output):\n",
    "  print('Output: “' + output + \"”\")\n",
    "  print('Length:', len(output))\n",
    "  hexList = [hex(ord(c)) for c in output]\n",
    "  simplifiedHexList = [c[2:] for c in hexList]\n",
    "  print('Hex:', ' '.join(simplifiedHexList))\n",
    "  categoryList = [unicodedata.category(c) for c in output]\n",
    "  print('Categories:', ' '.join(categoryList))"
   ]
  },
  {
   "cell_type": "code",
   "execution_count": 35,
   "metadata": {},
   "outputs": [
    {
     "name": "stdout",
     "output_type": "stream",
     "text": [
      "Output: “\n",
      "  Hello, world!\n",
      "abc\n",
      "\t\t\n",
      "     你好，世界！\n",
      "\n",
      " ”\n",
      "Length: 39\n",
      "Hex: a 20 20 48 65 6c 6c 6f 2c 20 77 6f 72 6c 64 21 d a 61 62 63 a 9 9 a 20 20 20 20 20 4f60 597d ff0c 4e16 754c ff01 a a 20\n",
      "Categories: Cc Zs Zs Lu Ll Ll Ll Ll Po Zs Ll Ll Ll Ll Ll Po Cc Cc Ll Ll Ll Cc Cc Cc Cc Zs Zs Zs Zs Zs Lo Lo Po Lo Lo Po Cc Cc Zs\n"
     ]
    }
   ],
   "source": [
    "text = \"\"\"\n",
    "  Hello, world!\\r\\nabc\n",
    "\\t\\t\n",
    "     你好，世界！\n",
    "\n",
    " \"\"\"\n",
    "checkOutput(text)"
   ]
  },
  {
   "cell_type": "code",
   "execution_count": 36,
   "metadata": {},
   "outputs": [
    {
     "name": "stdout",
     "output_type": "stream",
     "text": [
      "Output: “\n",
      "  Hello, world!\n",
      "abc\n",
      "\t\t\n",
      "     你好，世界！\n",
      "\n",
      " ”\n",
      "Length: 38\n",
      "Hex: a 20 20 48 65 6c 6c 6f 2c 20 77 6f 72 6c 64 21 a 61 62 63 a 9 9 a 20 20 20 20 20 4f60 597d ff0c 4e16 754c ff01 a a 20\n",
      "Categories: Cc Zs Zs Lu Ll Ll Ll Ll Po Zs Ll Ll Ll Ll Ll Po Cc Ll Ll Ll Cc Cc Cc Cc Zs Zs Zs Zs Zs Lo Lo Po Lo Lo Po Cc Cc Zs\n"
     ]
    }
   ],
   "source": [
    "text = normalizeLineEndings(text)\n",
    "checkOutput(text)"
   ]
  },
  {
   "cell_type": "code",
   "execution_count": 37,
   "metadata": {},
   "outputs": [
    {
     "name": "stdout",
     "output_type": "stream",
     "text": [
      "Output: “Hello, world!\n",
      "abc\n",
      "\t\t\n",
      "     你好，世界！”\n",
      "Length: 32\n",
      "Hex: 48 65 6c 6c 6f 2c 20 77 6f 72 6c 64 21 a 61 62 63 a 9 9 a 20 20 20 20 20 4f60 597d ff0c 4e16 754c ff01\n",
      "Categories: Lu Ll Ll Ll Ll Po Zs Ll Ll Ll Ll Ll Po Cc Ll Ll Ll Cc Cc Cc Cc Zs Zs Zs Zs Zs Lo Lo Po Lo Lo Po\n"
     ]
    }
   ],
   "source": [
    "text = strip(text)\n",
    "checkOutput(text)"
   ]
  },
  {
   "cell_type": "code",
   "execution_count": 38,
   "metadata": {},
   "outputs": [
    {
     "name": "stdout",
     "output_type": "stream",
     "text": [
      "Output: “Hello, world!\n",
      "abc\n",
      " \n",
      " 你好，世界！”\n",
      "Length: 27\n",
      "Hex: 48 65 6c 6c 6f 2c 20 77 6f 72 6c 64 21 a 61 62 63 a 20 a 20 4f60 597d ff0c 4e16 754c ff01\n",
      "Categories: Lu Ll Ll Ll Ll Po Zs Ll Ll Ll Ll Ll Po Cc Ll Ll Ll Cc Zs Cc Zs Lo Lo Po Lo Lo Po\n"
     ]
    }
   ],
   "source": [
    "text = compressWhitespace(text)\n",
    "checkOutput(text)"
   ]
  },
  {
   "cell_type": "code",
   "execution_count": 39,
   "metadata": {},
   "outputs": [
    {
     "name": "stdout",
     "output_type": "stream",
     "text": [
      "Output: “Hello, world!\n",
      "abc\n",
      " \n",
      " 你好,世界!”\n",
      "Length: 27\n",
      "Hex: 48 65 6c 6c 6f 2c 20 77 6f 72 6c 64 21 a 61 62 63 a 20 a 20 4f60 597d 2c 4e16 754c 21\n",
      "Categories: Lu Ll Ll Ll Ll Po Zs Ll Ll Ll Ll Ll Po Cc Ll Ll Ll Cc Zs Cc Zs Lo Lo Po Lo Lo Po\n"
     ]
    }
   ],
   "source": [
    "text = normalizeUnicode(text)\n",
    "checkOutput(text)"
   ]
  },
  {
   "cell_type": "code",
   "execution_count": 40,
   "metadata": {},
   "outputs": [
    {
     "name": "stdout",
     "output_type": "stream",
     "text": [
      "Output: “Hello, world!\n",
      "abc\n",
      " \n",
      " 你好,世界!”\n",
      "Length: 27\n",
      "Hex: 48 65 6c 6c 6f 2c 20 77 6f 72 6c 64 21 a 61 62 63 a 20 a 20 4f60 597d 2c 4e16 754c 21\n",
      "Categories: Lu Ll Ll Ll Ll Po Zs Ll Ll Ll Ll Ll Po Cc Ll Ll Ll Cc Zs Cc Zs Lo Lo Po Lo Lo Po\n"
     ]
    }
   ],
   "source": [
    "text = clearUnprintable(text)\n",
    "checkOutput(text)"
   ]
  }
 ],
 "metadata": {
  "kernelspec": {
   "display_name": ".venv",
   "language": "python",
   "name": "python3"
  },
  "language_info": {
   "codemirror_mode": {
    "name": "ipython",
    "version": 3
   },
   "file_extension": ".py",
   "mimetype": "text/x-python",
   "name": "python",
   "nbconvert_exporter": "python",
   "pygments_lexer": "ipython3",
   "version": "3.11.5"
  }
 },
 "nbformat": 4,
 "nbformat_minor": 2
}
